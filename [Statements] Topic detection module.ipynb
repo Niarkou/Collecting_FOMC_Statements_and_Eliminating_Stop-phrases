{
 "cells": [
  {
   "cell_type": "code",
   "execution_count": 11,
   "metadata": {},
   "outputs": [],
   "source": [
    "import pandas as pd\n",
    "from nltk import sent_tokenize\n",
    "from tqdm import tqdm\n",
    "tqdm.pandas()\n",
    "import numpy as np"
   ]
  },
  {
   "cell_type": "code",
   "execution_count": 2,
   "metadata": {},
   "outputs": [],
   "source": [
    "filepath = './Statements_to_be_analyzed.csv'"
   ]
  },
  {
   "cell_type": "code",
   "execution_count": 5,
   "metadata": {},
   "outputs": [
    {
     "data": {
      "text/html": [
       "<div>\n",
       "<style scoped>\n",
       "    .dataframe tbody tr th:only-of-type {\n",
       "        vertical-align: middle;\n",
       "    }\n",
       "\n",
       "    .dataframe tbody tr th {\n",
       "        vertical-align: top;\n",
       "    }\n",
       "\n",
       "    .dataframe thead th {\n",
       "        text-align: right;\n",
       "    }\n",
       "</style>\n",
       "<table border=\"1\" class=\"dataframe\">\n",
       "  <thead>\n",
       "    <tr style=\"text-align: right;\">\n",
       "      <th></th>\n",
       "      <th>meeting_date</th>\n",
       "      <th>document</th>\n",
       "    </tr>\n",
       "  </thead>\n",
       "  <tbody>\n",
       "    <tr>\n",
       "      <th>0</th>\n",
       "      <td>1994-02-04</td>\n",
       "      <td>Chairman Alan Greenspan announced today that t...</td>\n",
       "    </tr>\n",
       "    <tr>\n",
       "      <th>1</th>\n",
       "      <td>1994-03-22</td>\n",
       "      <td>Chairman Alan Greenspan announced today that t...</td>\n",
       "    </tr>\n",
       "    <tr>\n",
       "      <th>2</th>\n",
       "      <td>1994-04-18</td>\n",
       "      <td>Chairman Alan Greenspan announced today that t...</td>\n",
       "    </tr>\n",
       "    <tr>\n",
       "      <th>3</th>\n",
       "      <td>1994-05-17</td>\n",
       "      <td>The Federal Reserve today announced two action...</td>\n",
       "    </tr>\n",
       "    <tr>\n",
       "      <th>4</th>\n",
       "      <td>1994-08-16</td>\n",
       "      <td>The Federal Reserve announced today the follow...</td>\n",
       "    </tr>\n",
       "    <tr>\n",
       "      <th>...</th>\n",
       "      <td>...</td>\n",
       "      <td>...</td>\n",
       "    </tr>\n",
       "    <tr>\n",
       "      <th>208</th>\n",
       "      <td>2022-01-26</td>\n",
       "      <td>Indicators of economic activity and employment...</td>\n",
       "    </tr>\n",
       "    <tr>\n",
       "      <th>209</th>\n",
       "      <td>2022-03-16</td>\n",
       "      <td>Indicators of economic activity and employment...</td>\n",
       "    </tr>\n",
       "    <tr>\n",
       "      <th>210</th>\n",
       "      <td>2022-05-04</td>\n",
       "      <td>Although overall economic activity edged down ...</td>\n",
       "    </tr>\n",
       "    <tr>\n",
       "      <th>211</th>\n",
       "      <td>2022-06-15</td>\n",
       "      <td>Overall economic activity appears to have pick...</td>\n",
       "    </tr>\n",
       "    <tr>\n",
       "      <th>212</th>\n",
       "      <td>2022-07-27</td>\n",
       "      <td>Recent indicators of spending and production h...</td>\n",
       "    </tr>\n",
       "  </tbody>\n",
       "</table>\n",
       "<p>213 rows × 2 columns</p>\n",
       "</div>"
      ],
      "text/plain": [
       "    meeting_date                                           document\n",
       "0     1994-02-04  Chairman Alan Greenspan announced today that t...\n",
       "1     1994-03-22  Chairman Alan Greenspan announced today that t...\n",
       "2     1994-04-18  Chairman Alan Greenspan announced today that t...\n",
       "3     1994-05-17  The Federal Reserve today announced two action...\n",
       "4     1994-08-16  The Federal Reserve announced today the follow...\n",
       "..           ...                                                ...\n",
       "208   2022-01-26  Indicators of economic activity and employment...\n",
       "209   2022-03-16  Indicators of economic activity and employment...\n",
       "210   2022-05-04  Although overall economic activity edged down ...\n",
       "211   2022-06-15  Overall economic activity appears to have pick...\n",
       "212   2022-07-27  Recent indicators of spending and production h...\n",
       "\n",
       "[213 rows x 2 columns]"
      ]
     },
     "execution_count": 5,
     "metadata": {},
     "output_type": "execute_result"
    }
   ],
   "source": [
    "doc_df = pd.read_csv(filepath)\n",
    "doc_df"
   ]
  },
  {
   "cell_type": "code",
   "execution_count": 8,
   "metadata": {},
   "outputs": [
    {
     "name": "stderr",
     "output_type": "stream",
     "text": [
      "213it [00:00, 306.16it/s]\n"
     ]
    },
    {
     "name": "stdout",
     "output_type": "stream",
     "text": [
      "Number of sentences: 2903\n"
     ]
    },
    {
     "data": {
      "text/html": [
       "<div>\n",
       "<style scoped>\n",
       "    .dataframe tbody tr th:only-of-type {\n",
       "        vertical-align: middle;\n",
       "    }\n",
       "\n",
       "    .dataframe tbody tr th {\n",
       "        vertical-align: top;\n",
       "    }\n",
       "\n",
       "    .dataframe thead th {\n",
       "        text-align: right;\n",
       "    }\n",
       "</style>\n",
       "<table border=\"1\" class=\"dataframe\">\n",
       "  <thead>\n",
       "    <tr style=\"text-align: right;\">\n",
       "      <th></th>\n",
       "      <th>sentence</th>\n",
       "      <th>meeting_date</th>\n",
       "      <th>sentence_index</th>\n",
       "    </tr>\n",
       "  </thead>\n",
       "  <tbody>\n",
       "    <tr>\n",
       "      <th>0</th>\n",
       "      <td>Chairman Alan Greenspan announced today that t...</td>\n",
       "      <td>1994-02-04</td>\n",
       "      <td>0</td>\n",
       "    </tr>\n",
       "    <tr>\n",
       "      <th>1</th>\n",
       "      <td>The action is expected to be associated with a...</td>\n",
       "      <td>1994-02-04</td>\n",
       "      <td>1</td>\n",
       "    </tr>\n",
       "    <tr>\n",
       "      <th>2</th>\n",
       "      <td>The decision was taken to move toward a less a...</td>\n",
       "      <td>1994-02-04</td>\n",
       "      <td>2</td>\n",
       "    </tr>\n",
       "    <tr>\n",
       "      <th>3</th>\n",
       "      <td>Chairman Greenspan decided to announce this ac...</td>\n",
       "      <td>1994-02-04</td>\n",
       "      <td>3</td>\n",
       "    </tr>\n",
       "    <tr>\n",
       "      <th>4</th>\n",
       "      <td>Chairman Alan Greenspan announced today that t...</td>\n",
       "      <td>1994-03-22</td>\n",
       "      <td>0</td>\n",
       "    </tr>\n",
       "    <tr>\n",
       "      <th>...</th>\n",
       "      <td>...</td>\n",
       "      <td>...</td>\n",
       "      <td>...</td>\n",
       "    </tr>\n",
       "    <tr>\n",
       "      <th>2898</th>\n",
       "      <td>The Committee is strongly committed to returni...</td>\n",
       "      <td>2022-07-27</td>\n",
       "      <td>9</td>\n",
       "    </tr>\n",
       "    <tr>\n",
       "      <th>2899</th>\n",
       "      <td>In assessing the appropriate stance of monetar...</td>\n",
       "      <td>2022-07-27</td>\n",
       "      <td>10</td>\n",
       "    </tr>\n",
       "    <tr>\n",
       "      <th>2900</th>\n",
       "      <td>The Committee would be prepared to adjust the ...</td>\n",
       "      <td>2022-07-27</td>\n",
       "      <td>11</td>\n",
       "    </tr>\n",
       "    <tr>\n",
       "      <th>2901</th>\n",
       "      <td>The Committee's assessments will take into acc...</td>\n",
       "      <td>2022-07-27</td>\n",
       "      <td>12</td>\n",
       "    </tr>\n",
       "    <tr>\n",
       "      <th>2902</th>\n",
       "      <td>Voting for the monetary policy action were Jer...</td>\n",
       "      <td>2022-07-27</td>\n",
       "      <td>13</td>\n",
       "    </tr>\n",
       "  </tbody>\n",
       "</table>\n",
       "<p>2903 rows × 3 columns</p>\n",
       "</div>"
      ],
      "text/plain": [
       "                                               sentence meeting_date  \\\n",
       "0     Chairman Alan Greenspan announced today that t...   1994-02-04   \n",
       "1     The action is expected to be associated with a...   1994-02-04   \n",
       "2     The decision was taken to move toward a less a...   1994-02-04   \n",
       "3     Chairman Greenspan decided to announce this ac...   1994-02-04   \n",
       "4     Chairman Alan Greenspan announced today that t...   1994-03-22   \n",
       "...                                                 ...          ...   \n",
       "2898  The Committee is strongly committed to returni...   2022-07-27   \n",
       "2899  In assessing the appropriate stance of monetar...   2022-07-27   \n",
       "2900  The Committee would be prepared to adjust the ...   2022-07-27   \n",
       "2901  The Committee's assessments will take into acc...   2022-07-27   \n",
       "2902  Voting for the monetary policy action were Jer...   2022-07-27   \n",
       "\n",
       "      sentence_index  \n",
       "0                  0  \n",
       "1                  1  \n",
       "2                  2  \n",
       "3                  3  \n",
       "4                  0  \n",
       "...              ...  \n",
       "2898               9  \n",
       "2899              10  \n",
       "2900              11  \n",
       "2901              12  \n",
       "2902              13  \n",
       "\n",
       "[2903 rows x 3 columns]"
      ]
     },
     "execution_count": 8,
     "metadata": {},
     "output_type": "execute_result"
    }
   ],
   "source": [
    "def extract_sentences(doc):\n",
    "    return sent_tokenize(doc)\n",
    "\n",
    "dfs = []\n",
    "for _, row in tqdm(doc_df.iterrows()):\n",
    "    sentences = extract_sentences(row['document'])\n",
    "\n",
    "    one_doc_sentences_df = pd.DataFrame(sentences, columns=['sentence'])\n",
    "    one_doc_sentences_df['meeting_date'] = row['meeting_date']\n",
    "    one_doc_sentences_df['sentence_index'] = one_doc_sentences_df.index\n",
    "    dfs.append(one_doc_sentences_df)\n",
    "df = pd.concat(dfs)\n",
    "df.reset_index(drop=True, inplace=True)\n",
    "\n",
    "print('Number of sentences: {}'.format(len(df)))\n",
    "df"
   ]
  },
  {
   "cell_type": "markdown",
   "metadata": {},
   "source": [
    "Feature extraction"
   ]
  },
  {
   "cell_type": "code",
   "execution_count": 9,
   "metadata": {},
   "outputs": [
    {
     "name": "stderr",
     "output_type": "stream",
     "text": [
      "C:\\Users\\Jihye Park\\anaconda3\\lib\\site-packages\\tqdm\\auto.py:22: TqdmWarning: IProgress not found. Please update jupyter and ipywidgets. See https://ipywidgets.readthedocs.io/en/stable/user_install.html\n",
      "  from .autonotebook import tqdm as notebook_tqdm\n",
      "Some weights of the model checkpoint at nlpaueb/sec-bert-base were not used when initializing BertModel: ['cls.predictions.transform.dense.bias', 'cls.predictions.decoder.weight', 'cls.predictions.decoder.bias', 'cls.predictions.transform.LayerNorm.bias', 'cls.seq_relationship.bias', 'cls.predictions.transform.dense.weight', 'cls.predictions.transform.LayerNorm.weight', 'cls.seq_relationship.weight', 'cls.predictions.bias']\n",
      "- This IS expected if you are initializing BertModel from the checkpoint of a model trained on another task or with another architecture (e.g. initializing a BertForSequenceClassification model from a BertForPreTraining model).\n",
      "- This IS NOT expected if you are initializing BertModel from the checkpoint of a model that you expect to be exactly identical (initializing a BertForSequenceClassification model from a BertForSequenceClassification model).\n"
     ]
    }
   ],
   "source": [
    "from transformers import pipeline\n",
    "nlp_features = pipeline('feature-extraction', model=\"nlpaueb/sec-bert-base\")"
   ]
  },
  {
   "cell_type": "code",
   "execution_count": null,
   "metadata": {},
   "outputs": [
    {
     "name": "stderr",
     "output_type": "stream",
     "text": [
      " 75%|██████████████████████████████████████████████████████████▎                   | 2168/2903 [06:19<01:48,  6.74it/s]"
     ]
    }
   ],
   "source": [
    "def get_feature(sentence):\n",
    "    return np.squeeze(nlp_features(sentence)).mean(0) # Get the average values of the embedding layers\n",
    "\n",
    "df['feature'] = df['sentence'].progress_apply(lambda x: get_feature(x))"
   ]
  },
  {
   "cell_type": "code",
   "execution_count": null,
   "metadata": {},
   "outputs": [],
   "source": []
  },
  {
   "cell_type": "code",
   "execution_count": null,
   "metadata": {},
   "outputs": [],
   "source": []
  }
 ],
 "metadata": {
  "kernelspec": {
   "display_name": "Python 3 (ipykernel)",
   "language": "python",
   "name": "python3"
  },
  "language_info": {
   "codemirror_mode": {
    "name": "ipython",
    "version": 3
   },
   "file_extension": ".py",
   "mimetype": "text/x-python",
   "name": "python",
   "nbconvert_exporter": "python",
   "pygments_lexer": "ipython3",
   "version": "3.8.5"
  }
 },
 "nbformat": 4,
 "nbformat_minor": 4
}
