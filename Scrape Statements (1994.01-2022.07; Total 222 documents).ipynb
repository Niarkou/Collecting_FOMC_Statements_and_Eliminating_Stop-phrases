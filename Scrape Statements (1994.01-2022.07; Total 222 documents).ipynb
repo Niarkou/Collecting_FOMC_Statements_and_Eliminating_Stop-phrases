{
 "cells": [
  {
   "cell_type": "code",
   "execution_count": 1,
   "metadata": {},
   "outputs": [],
   "source": [
    "from bs4 import BeautifulSoup\n",
    "import requests\n",
    "import pandas as pd\n",
    "from selenium import webdriver\n",
    "import time, os, re\n",
    "from tqdm import tqdm"
   ]
  },
  {
   "cell_type": "code",
   "execution_count": 2,
   "metadata": {},
   "outputs": [],
   "source": [
    "selenium_filepath = \"C:\\GIT\\SELENIUM_DRIVERS\\chromedriver_win32\\chromedriver.exe\"\n",
    "\n",
    "start_yyyymmdd = \"01/01/1994\"\n",
    "end_yyyymmdd = \"09/24/2022\"\n",
    "save_root_dir = './Statements'\n",
    "\n",
    "url = \"https://www.federalreserve.gov/monetarypolicy/materials/\""
   ]
  },
  {
   "cell_type": "code",
   "execution_count": 3,
   "metadata": {},
   "outputs": [],
   "source": [
    "driver = webdriver.Chrome(selenium_filepath)\n",
    "driver.get(url)"
   ]
  },
  {
   "cell_type": "code",
   "execution_count": 5,
   "metadata": {},
   "outputs": [],
   "source": [
    "# set start date\n",
    "start_date = driver.find_element_by_name(\"startmodel\")\n",
    "start_date.clear()\n",
    "start_date.send_keys(start_yyyymmdd)\n",
    "\n",
    "# set end date\n",
    "end_date = driver.find_element_by_name(\"endmodel\")\n",
    "end_date.clear()\n",
    "end_date.send_keys(end_yyyymmdd)\n",
    "\n",
    "# select policy statements\n",
    "statement_checkbox = driver.find_element_by_xpath(\"//label/input[contains(..,'Policy Statements')]\")\n",
    "statement_checkbox.click()\n",
    "\n",
    "# apply filter\n",
    "submit = driver.find_element_by_css_selector(\".btn.btn-primary\")\n",
    "submit.click()"
   ]
  },
  {
   "cell_type": "code",
   "execution_count": 6,
   "metadata": {},
   "outputs": [],
   "source": [
    "# get the page control row\n",
    "pagination = driver.find_element_by_class_name('pagination')\n",
    "\n",
    "# go to the last page to find the largest page number\n",
    "last_page = pagination.find_element_by_link_text('Last')\n",
    "last_page.click()\n",
    "pages = pagination.text.split('\\n')\n",
    "largest_page = int(pages[-3])"
   ]
  },
  {
   "cell_type": "markdown",
   "metadata": {},
   "source": [
    "Scrape URLs"
   ]
  },
  {
   "cell_type": "code",
   "execution_count": 7,
   "metadata": {},
   "outputs": [
    {
     "name": "stdout",
     "output_type": "stream",
     "text": [
      "Number of URLs: 222\n"
     ]
    }
   ],
   "source": [
    "statement_url_list = []\n",
    "# go back to first page and start the loop\n",
    "first_page = pagination.find_element_by_link_text('First')\n",
    "first_page.click()\n",
    "next_page = pagination.find_element_by_link_text('Next')\n",
    "for i in range(largest_page):\n",
    "    # now to get the items inside\n",
    "    main = driver.find_element_by_css_selector(\".panel.panel-default\") # get the app panel\n",
    "    material_types = main.find_elements_by_css_selector(\".fomc-meeting__month.col-xs-5.col-sm-3.col-md-4\") # get the 2nd col\n",
    "    material_types = [element.text for element in material_types] # to get the words\n",
    "    material_links = main.find_elements_by_css_selector(\".fomc-meeting__month.col-xs-5.col-sm-3.col-md-2\") # get the 3rd col\n",
    "    html_elements = [element.find_element_by_link_text('HTML') for element in material_links] # get the html ones\n",
    "    # add url to statement_url_list if it is a statement\n",
    "    statement_url_list.extend([html_elements[i].get_attribute('href') for i, j in enumerate(material_types) if j=='Statement'])\n",
    "    next_page.click()\n",
    "print('Number of URLs: {}'.format(len(statement_url_list)))"
   ]
  },
  {
   "cell_type": "markdown",
   "metadata": {},
   "source": [
    "Scrpae texts"
   ]
  },
  {
   "cell_type": "code",
   "execution_count": 8,
   "metadata": {},
   "outputs": [],
   "source": [
    "def get_text_for_a_statement_from_2006_to_2022(soup):\n",
    "    return soup.find('div', class_ = 'col-xs-12 col-sm-8 col-md-8').text.strip()\n",
    "\n",
    "def get_text_for_a_statement_from_1996_to_2005(soup):\n",
    "    return soup.find('table').find('td').text.strip()\n",
    "\n",
    "def get_text_for_a_statement_from_1994_to_1995(soup):\n",
    "    return soup.find('div', id=\"content\").text.strip()"
   ]
  },
  {
   "cell_type": "code",
   "execution_count": 9,
   "metadata": {},
   "outputs": [
    {
     "name": "stderr",
     "output_type": "stream",
     "text": [
      "100%|████████████████████████████████████████████████████████████████████████████████| 222/222 [01:47<00:00,  2.07it/s]"
     ]
    },
    {
     "name": "stdout",
     "output_type": "stream",
     "text": [
      "Number of statements: 0\n"
     ]
    },
    {
     "name": "stderr",
     "output_type": "stream",
     "text": [
      "\n"
     ]
    }
   ],
   "source": [
    "statement_list = []\n",
    "for statement_url in tqdm(statement_url_list):\n",
    "    statement_resp = requests.get(statement_url)\n",
    "    statement_soup = BeautifulSoup(statement_resp.content, 'lxml')\n",
    "    \n",
    "    for item in re.findall('[0-9]+', statement_url):\n",
    "        if len(item)==8:\n",
    "            yyyymmdd = item\n",
    "    \n",
    "    year = int(yyyymmdd[:4])\n",
    "    if year >= 2006:\n",
    "        article = get_text_for_a_statement_from_2006_to_2022(statement_soup)\n",
    "    elif year >=1996:\n",
    "        article = get_text_for_a_statement_from_1996_to_2005(statement_soup)\n",
    "    else:\n",
    "        article = get_text_for_a_statement_from_1994_to_1995(statement_soup)\n",
    "        \n",
    "    save_dir = os.path.join(save_root_dir, yyyymmdd[:4])\n",
    "    if not os.path.exists(save_dir): os.makedirs(save_dir)\n",
    "    save_filepath = os.path.join(save_dir, '{}.txt'.format(yyyymmdd))\n",
    "    with open(save_filepath, \"w\", encoding='utf-8-sig') as file:\n",
    "        file.write(article)\n",
    "    \n",
    "print('Number of statements: {}'.format(len(statement_list)))"
   ]
  }
 ],
 "metadata": {
  "kernelspec": {
   "display_name": "Python 3",
   "language": "python",
   "name": "python3"
  },
  "language_info": {
   "codemirror_mode": {
    "name": "ipython",
    "version": 3
   },
   "file_extension": ".py",
   "mimetype": "text/x-python",
   "name": "python",
   "nbconvert_exporter": "python",
   "pygments_lexer": "ipython3",
   "version": "3.8.5"
  }
 },
 "nbformat": 4,
 "nbformat_minor": 4
}
