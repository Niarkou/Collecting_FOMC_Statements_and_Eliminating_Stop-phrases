{
 "cells": [
  {
   "cell_type": "code",
   "execution_count": 1,
   "id": "c482939f",
   "metadata": {},
   "outputs": [],
   "source": [
    "import os\n",
    "import pandas as pd\n",
    "from tqdm import tqdm \n",
    "tqdm.pandas()\n",
    "import seaborn as sns\n",
    "import matplotlib.pyplot as plt\n",
    "from nltk import sent_tokenize, word_tokenize\n",
    "from transformers import pipeline\n",
    "import numpy as np\n",
    "\n",
    "from umap import UMAP\n",
    "from sklearn.cluster import KMeans"
   ]
  },
  {
   "cell_type": "code",
   "execution_count": 2,
   "id": "ff29844c",
   "metadata": {},
   "outputs": [],
   "source": [
    "data_filepath = '/media/dmlab/My Passport/DATA/fomc/FOMC_statements_2021-12-31.csv'"
   ]
  },
  {
   "cell_type": "code",
   "execution_count": 3,
   "id": "56a86833",
   "metadata": {},
   "outputs": [
    {
     "data": {
      "text/html": [
       "<div>\n",
       "<style scoped>\n",
       "    .dataframe tbody tr th:only-of-type {\n",
       "        vertical-align: middle;\n",
       "    }\n",
       "\n",
       "    .dataframe tbody tr th {\n",
       "        vertical-align: top;\n",
       "    }\n",
       "\n",
       "    .dataframe thead th {\n",
       "        text-align: right;\n",
       "    }\n",
       "</style>\n",
       "<table border=\"1\" class=\"dataframe\">\n",
       "  <thead>\n",
       "    <tr style=\"text-align: right;\">\n",
       "      <th></th>\n",
       "      <th>Date</th>\n",
       "      <th>Statement</th>\n",
       "    </tr>\n",
       "  </thead>\n",
       "  <tbody>\n",
       "    <tr>\n",
       "      <th>0</th>\n",
       "      <td>2021-12-15</td>\n",
       "      <td>The Federal Reserve is committed to using its ...</td>\n",
       "    </tr>\n",
       "    <tr>\n",
       "      <th>1</th>\n",
       "      <td>2021-11-03</td>\n",
       "      <td>The Federal Reserve is committed to using its ...</td>\n",
       "    </tr>\n",
       "    <tr>\n",
       "      <th>2</th>\n",
       "      <td>2021-09-22</td>\n",
       "      <td>The Federal Reserve is committed to using its ...</td>\n",
       "    </tr>\n",
       "    <tr>\n",
       "      <th>3</th>\n",
       "      <td>2021-07-28</td>\n",
       "      <td>The Federal Reserve is committed to using its ...</td>\n",
       "    </tr>\n",
       "    <tr>\n",
       "      <th>4</th>\n",
       "      <td>2021-06-16</td>\n",
       "      <td>The Federal Reserve is committed to using its ...</td>\n",
       "    </tr>\n",
       "  </tbody>\n",
       "</table>\n",
       "</div>"
      ],
      "text/plain": [
       "         Date                                          Statement\n",
       "0  2021-12-15  The Federal Reserve is committed to using its ...\n",
       "1  2021-11-03  The Federal Reserve is committed to using its ...\n",
       "2  2021-09-22  The Federal Reserve is committed to using its ...\n",
       "3  2021-07-28  The Federal Reserve is committed to using its ...\n",
       "4  2021-06-16  The Federal Reserve is committed to using its ..."
      ]
     },
     "execution_count": 3,
     "metadata": {},
     "output_type": "execute_result"
    }
   ],
   "source": [
    "df = pd.read_csv(data_filepath)\n",
    "df.head()"
   ]
  },
  {
   "cell_type": "code",
   "execution_count": 4,
   "id": "b52760f5",
   "metadata": {},
   "outputs": [
    {
     "name": "stdout",
     "output_type": "stream",
     "text": [
      "Date 2021-12-15\n",
      "Statement The Federal Reserve is committed to using its full range of tools to support the U.S. economy in this challenging time, thereby promoting its maximum employment and price stability goals.\n",
      "With progress on vaccinations and strong policy support, indicators of economic activity and employment have continued to strengthen. The sectors most adversely affected by the pandemic have improved in recent months but continue to be affected by COVID-19. Job gains have been solid in recent months, and the unemployment rate has declined substantially. Supply and demand imbalances related to the pandemic and the reopening of the economy have continued to contribute to elevated levels of inflation. Overall financial conditions remain accommodative, in part reflecting policy measures to support the economy and the flow of credit to U.S. households and businesses.\n",
      "The path of the economy continues to depend on the course of the virus. Progress on vaccinations and an easing of supply constraints are expected to support continued gains in economic activity and employment as well as a reduction in inflation. Risks to the economic outlook remain, including from new variants of the virus.\n",
      "The Committee seeks to achieve maximum employment and inflation at the rate of 2 percent over the longer run. In support of these goals, the Committee decided to keep the target range for the federal funds rate at 0 to 1/4 percent. With inflation having exceeded 2 percent for some time, the Committee expects it will be appropriate to maintain this target range until labor market conditions have reached levels consistent with the Committee's assessments of maximum employment. In light of inflation developments and the further improvement in the labor market, the Committee decided to reduce the monthly pace of its net asset purchases by $20 billion for Treasury securities and $10 billion for agency mortgage-backed securities. Beginning in January, the Committee will increase its holdings of Treasury securities by at least $40 billion per month and of agency mortgage‑backed securities by at least $20 billion per month. The Committee judges that similar reductions in the pace of net asset purchases will likely be appropriate each month, but it is prepared to adjust the pace of purchases if warranted by changes in the economic outlook. The Federal Reserve's ongoing purchases and holdings of securities will continue to foster smooth market functioning and accommodative financial conditions, thereby supporting the flow of credit to households and businesses.\n",
      "In assessing the appropriate stance of monetary policy, the Committee will continue to monitor the implications of incoming information for the economic outlook. The Committee would be prepared to adjust the stance of monetary policy as appropriate if risks emerge that could impede the attainment of the Committee's goals. The Committee's assessments will take into account a wide range of information, including readings on public health, labor market conditions, inflation pressures and inflation expectations, and financial and international developments.\n",
      "Voting for the monetary policy action were Jerome H. Powell, Chair; John C. Williams, Vice Chair; Thomas I. Barkin; Raphael W. Bostic; Michelle W. Bowman; Lael Brainard; Richard H. Clarida; Mary C. Daly; Charles L. Evans; Randal K. Quarles; and Christopher J. Waller.\n",
      "Implementation Note issued December 15, 2021\n"
     ]
    }
   ],
   "source": [
    "for colname in df.columns:\n",
    "    print(colname, df.iloc[0][colname])"
   ]
  },
  {
   "cell_type": "markdown",
   "id": "aea89576",
   "metadata": {},
   "source": [
    "연도별 문서 개수"
   ]
  },
  {
   "cell_type": "code",
   "execution_count": 15,
   "id": "fd14b56b",
   "metadata": {},
   "outputs": [
    {
     "name": "stdout",
     "output_type": "stream",
     "text": [
      "43\n"
     ]
    }
   ],
   "source": [
    "print(len(df))"
   ]
  },
  {
   "cell_type": "code",
   "execution_count": 4,
   "id": "5391edbe",
   "metadata": {},
   "outputs": [
    {
     "name": "stdout",
     "output_type": "stream",
     "text": [
      "2017, 8\n",
      "2018, 8\n",
      "2019, 9\n",
      "2020, 10\n",
      "2021, 8\n"
     ]
    }
   ],
   "source": [
    "df['yyyy'] = df['Date'].apply(lambda x: x[:4])\n",
    "for yyyy in sorted(df['yyyy'].unique()):\n",
    "    print('{}, {}'.format(yyyy, len(df[(df['yyyy']==yyyy)])))"
   ]
  },
  {
   "cell_type": "markdown",
   "id": "972f9900",
   "metadata": {},
   "source": [
    "문장 개수 분포"
   ]
  },
  {
   "cell_type": "code",
   "execution_count": 5,
   "id": "7e5421da",
   "metadata": {},
   "outputs": [
    {
     "name": "stdout",
     "output_type": "stream",
     "text": [
      "Max:28\n",
      "Median=18.0\n",
      "Min=7\n"
     ]
    },
    {
     "data": {
      "text/plain": [
       "Text(0.5, 0, 'Number of sentences')"
      ]
     },
     "execution_count": 5,
     "metadata": {},
     "output_type": "execute_result"
    },
    {
     "data": {
      "image/png": "[encoded data removed]",
      "text/plain": [
       "<Figure size 720x360 with 1 Axes>"
      ]
     },
     "metadata": {},
     "output_type": "display_data"
    }
   ],
   "source": [
    "sns.set(rc = {'figure.figsize':(10,5)})\n",
    "colname = 'num_of_sentences'\n",
    "\n",
    "df[colname] = df['Statement'].apply(lambda x: len(sent_tokenize(x)))\n",
    "print('Max:{}\\nMedian={}\\nMin={}'.format(df[colname].max(),df[colname].median(),df[colname].min()))\n",
    "\n",
    "plot = sns.histplot(df[colname].values)\n",
    "plt.xlabel('Number of sentences')  "
   ]
  },
  {
   "cell_type": "markdown",
   "id": "2c29df59",
   "metadata": {},
   "source": [
    "단어 개수 분포"
   ]
  },
  {
   "cell_type": "code",
   "execution_count": 6,
   "id": "18a54cdb",
   "metadata": {},
   "outputs": [
    {
     "name": "stdout",
     "output_type": "stream",
     "text": [
      "Max:771\n",
      "Median=515.0\n",
      "Min=157\n"
     ]
    },
    {
     "data": {
      "text/plain": [
       "Text(0.5, 0, 'Number of tokens')"
      ]
     },
     "execution_count": 6,
     "metadata": {},
     "output_type": "execute_result"
    },
    {
     "data": {
      "image/png": "[encoded data removed]",
      "text/plain": [
       "<Figure size 720x360 with 1 Axes>"
      ]
     },
     "metadata": {},
     "output_type": "display_data"
    }
   ],
   "source": [
    "colname = 'num_of_tokes'\n",
    "\n",
    "df[colname] = df['Statement'].apply(lambda x: len(word_tokenize(x)))\n",
    "print('Max:{}\\nMedian={}\\nMin={}'.format(df[colname].max(),df[colname].median(),df[colname].min()))\n",
    "\n",
    "plot = sns.histplot(df[colname].values)\n",
    "plt.xlabel('Number of tokens')  "
   ]
  },
  {
   "cell_type": "markdown",
   "id": "feed01ca",
   "metadata": {},
   "source": [
    "BERT+UMAP+K-Means"
   ]
  },
  {
   "cell_type": "code",
   "execution_count": 7,
   "id": "3c81e3ee",
   "metadata": {},
   "outputs": [
    {
     "name": "stderr",
     "output_type": "stream",
     "text": [
      "No model was supplied, defaulted to distilbert-base-cased (https://huggingface.co/distilbert-base-cased)\n",
      "Some weights of the model checkpoint at distilbert-base-cased were not used when initializing DistilBertModel: ['vocab_transform.weight', 'vocab_layer_norm.bias', 'vocab_layer_norm.weight', 'vocab_projector.bias', 'vocab_transform.bias', 'vocab_projector.weight']\n",
      "- This IS expected if you are initializing DistilBertModel from the checkpoint of a model trained on another task or with another architecture (e.g. initializing a BertForSequenceClassification model from a BertForPreTraining model).\n",
      "- This IS NOT expected if you are initializing DistilBertModel from the checkpoint of a model that you expect to be exactly identical (initializing a BertForSequenceClassification model from a BertForSequenceClassification model).\n"
     ]
    }
   ],
   "source": [
    "nlp_features = pipeline('feature-extraction')"
   ]
  },
  {
   "cell_type": "code",
   "execution_count": 8,
   "id": "94c809c3",
   "metadata": {},
   "outputs": [
    {
     "name": "stderr",
     "output_type": "stream",
     "text": [
      "43it [00:12,  3.47it/s]\n"
     ]
    },
    {
     "data": {
      "text/html": [
       "<div>\n",
       "<style scoped>\n",
       "    .dataframe tbody tr th:only-of-type {\n",
       "        vertical-align: middle;\n",
       "    }\n",
       "\n",
       "    .dataframe tbody tr th {\n",
       "        vertical-align: top;\n",
       "    }\n",
       "\n",
       "    .dataframe thead th {\n",
       "        text-align: right;\n",
       "    }\n",
       "</style>\n",
       "<table border=\"1\" class=\"dataframe\">\n",
       "  <thead>\n",
       "    <tr style=\"text-align: right;\">\n",
       "      <th></th>\n",
       "      <th>date</th>\n",
       "      <th>sentence</th>\n",
       "      <th>feature</th>\n",
       "    </tr>\n",
       "  </thead>\n",
       "  <tbody>\n",
       "    <tr>\n",
       "      <th>0</th>\n",
       "      <td>2021-12-15</td>\n",
       "      <td>The Federal Reserve is committed to using its ...</td>\n",
       "      <td>[0.09516288178998071, -0.06994150150441439, 0....</td>\n",
       "    </tr>\n",
       "    <tr>\n",
       "      <th>1</th>\n",
       "      <td>2021-12-15</td>\n",
       "      <td>With progress on vaccinations and strong polic...</td>\n",
       "      <td>[0.05808704249560833, -0.1022964440099895, 0.1...</td>\n",
       "    </tr>\n",
       "    <tr>\n",
       "      <th>2</th>\n",
       "      <td>2021-12-15</td>\n",
       "      <td>The sectors most adversely affected by the pan...</td>\n",
       "      <td>[0.29767200636367, -0.05229561380886783, -0.00...</td>\n",
       "    </tr>\n",
       "    <tr>\n",
       "      <th>3</th>\n",
       "      <td>2021-12-15</td>\n",
       "      <td>Job gains have been solid in recent months, an...</td>\n",
       "      <td>[0.04969722199204721, 0.2053103659694132, 0.16...</td>\n",
       "    </tr>\n",
       "    <tr>\n",
       "      <th>4</th>\n",
       "      <td>2021-12-15</td>\n",
       "      <td>Supply and demand imbalances related to the pa...</td>\n",
       "      <td>[-0.021917731684604376, 0.1460001759908416, -0...</td>\n",
       "    </tr>\n",
       "  </tbody>\n",
       "</table>\n",
       "</div>"
      ],
      "text/plain": [
       "         date                                           sentence  \\\n",
       "0  2021-12-15  The Federal Reserve is committed to using its ...   \n",
       "1  2021-12-15  With progress on vaccinations and strong polic...   \n",
       "2  2021-12-15  The sectors most adversely affected by the pan...   \n",
       "3  2021-12-15  Job gains have been solid in recent months, an...   \n",
       "4  2021-12-15  Supply and demand imbalances related to the pa...   \n",
       "\n",
       "                                             feature  \n",
       "0  [0.09516288178998071, -0.06994150150441439, 0....  \n",
       "1  [0.05808704249560833, -0.1022964440099895, 0.1...  \n",
       "2  [0.29767200636367, -0.05229561380886783, -0.00...  \n",
       "3  [0.04969722199204721, 0.2053103659694132, 0.16...  \n",
       "4  [-0.021917731684604376, 0.1460001759908416, -0...  "
      ]
     },
     "execution_count": 8,
     "metadata": {},
     "output_type": "execute_result"
    }
   ],
   "source": [
    "records = []\n",
    "for _, row in tqdm(df.iterrows()):\n",
    "    date = row['Date']\n",
    "    for sent in sent_tokenize(row['Statement']):\n",
    "        feature = np.squeeze(nlp_features(sent)).mean(0) # 평균을 취하는 방법을 택함\n",
    "        records.append((date, sent, feature))\n",
    "sent_df = pd.DataFrame(records, columns=['date', 'sentence', 'feature'])\n",
    "sent_df.head()"
   ]
  },
  {
   "cell_type": "markdown",
   "id": "4c198f46",
   "metadata": {},
   "source": [
    "UMAP"
   ]
  },
  {
   "cell_type": "code",
   "execution_count": 9,
   "id": "0d521723",
   "metadata": {},
   "outputs": [
    {
     "name": "stdout",
     "output_type": "stream",
     "text": [
      "CPU times: user 14 s, sys: 272 ms, total: 14.3 s\n",
      "Wall time: 8.73 s\n"
     ]
    }
   ],
   "source": [
    "%%time\n",
    "arr = np.vstack(sent_df['feature'].values)\n",
    "embedded = UMAP(n_components=2, random_state=42).fit_transform(arr)"
   ]
  },
  {
   "cell_type": "markdown",
   "id": "7d1ed7c9",
   "metadata": {},
   "source": [
    "without clustering"
   ]
  },
  {
   "cell_type": "code",
   "execution_count": 10,
   "id": "2aa251eb",
   "metadata": {},
   "outputs": [
    {
     "data": {
      "text/plain": [
       "<matplotlib.collections.PathCollection at 0x7f6a2a4f6908>"
      ]
     },
     "execution_count": 10,
     "metadata": {},
     "output_type": "execute_result"
    },
    {
     "data": {
      "image/png": "[encoded data removed]",
      "text/plain": [
       "<Figure size 720x360 with 1 Axes>"
      ]
     },
     "metadata": {},
     "output_type": "display_data"
    }
   ],
   "source": [
    "plt.scatter(embedded[:, 0], embedded[:, 1], marker='.', s=5)"
   ]
  },
  {
   "cell_type": "markdown",
   "id": "59206e06",
   "metadata": {},
   "source": [
    "kmeans clustering"
   ]
  },
  {
   "cell_type": "code",
   "execution_count": 11,
   "id": "4f06311a",
   "metadata": {},
   "outputs": [
    {
     "name": "stdout",
     "output_type": "stream",
     "text": [
      "CPU times: user 385 ms, sys: 23.9 ms, total: 409 ms\n",
      "Wall time: 145 ms\n"
     ]
    },
    {
     "data": {
      "image/png": "[encoded data removed]",
      "text/plain": [
       "<Figure size 720x360 with 1 Axes>"
      ]
     },
     "metadata": {},
     "output_type": "display_data"
    }
   ],
   "source": [
    "%%time\n",
    "num_cluster = 30\n",
    "labels = KMeans(n_clusters=num_cluster, init='k-means++', max_iter=5, random_state=42).fit_predict(embedded)\n",
    "\n",
    "plt.scatter(embedded[:, 0], embedded[:, 1], c=labels, marker='.', s=5)"
   ]
  },
  {
   "cell_type": "code",
   "execution_count": 12,
   "id": "55cfb7d7",
   "metadata": {},
   "outputs": [
    {
     "data": {
      "text/html": [
       "<div>\n",
       "<style scoped>\n",
       "    .dataframe tbody tr th:only-of-type {\n",
       "        vertical-align: middle;\n",
       "    }\n",
       "\n",
       "    .dataframe tbody tr th {\n",
       "        vertical-align: top;\n",
       "    }\n",
       "\n",
       "    .dataframe thead th {\n",
       "        text-align: right;\n",
       "    }\n",
       "</style>\n",
       "<table border=\"1\" class=\"dataframe\">\n",
       "  <thead>\n",
       "    <tr style=\"text-align: right;\">\n",
       "      <th></th>\n",
       "      <th>date</th>\n",
       "      <th>sentence</th>\n",
       "      <th>feature</th>\n",
       "      <th>cluster_index</th>\n",
       "    </tr>\n",
       "  </thead>\n",
       "  <tbody>\n",
       "    <tr>\n",
       "      <th>0</th>\n",
       "      <td>2021-12-15</td>\n",
       "      <td>The Federal Reserve is committed to using its ...</td>\n",
       "      <td>[0.09516288178998071, -0.06994150150441439, 0....</td>\n",
       "      <td>17</td>\n",
       "    </tr>\n",
       "    <tr>\n",
       "      <th>1</th>\n",
       "      <td>2021-12-15</td>\n",
       "      <td>With progress on vaccinations and strong polic...</td>\n",
       "      <td>[0.05808704249560833, -0.1022964440099895, 0.1...</td>\n",
       "      <td>1</td>\n",
       "    </tr>\n",
       "    <tr>\n",
       "      <th>2</th>\n",
       "      <td>2021-12-15</td>\n",
       "      <td>The sectors most adversely affected by the pan...</td>\n",
       "      <td>[0.29767200636367, -0.05229561380886783, -0.00...</td>\n",
       "      <td>1</td>\n",
       "    </tr>\n",
       "    <tr>\n",
       "      <th>3</th>\n",
       "      <td>2021-12-15</td>\n",
       "      <td>Job gains have been solid in recent months, an...</td>\n",
       "      <td>[0.04969722199204721, 0.2053103659694132, 0.16...</td>\n",
       "      <td>15</td>\n",
       "    </tr>\n",
       "    <tr>\n",
       "      <th>4</th>\n",
       "      <td>2021-12-15</td>\n",
       "      <td>Supply and demand imbalances related to the pa...</td>\n",
       "      <td>[-0.021917731684604376, 0.1460001759908416, -0...</td>\n",
       "      <td>1</td>\n",
       "    </tr>\n",
       "  </tbody>\n",
       "</table>\n",
       "</div>"
      ],
      "text/plain": [
       "         date                                           sentence  \\\n",
       "0  2021-12-15  The Federal Reserve is committed to using its ...   \n",
       "1  2021-12-15  With progress on vaccinations and strong polic...   \n",
       "2  2021-12-15  The sectors most adversely affected by the pan...   \n",
       "3  2021-12-15  Job gains have been solid in recent months, an...   \n",
       "4  2021-12-15  Supply and demand imbalances related to the pa...   \n",
       "\n",
       "                                             feature  cluster_index  \n",
       "0  [0.09516288178998071, -0.06994150150441439, 0....             17  \n",
       "1  [0.05808704249560833, -0.1022964440099895, 0.1...              1  \n",
       "2  [0.29767200636367, -0.05229561380886783, -0.00...              1  \n",
       "3  [0.04969722199204721, 0.2053103659694132, 0.16...             15  \n",
       "4  [-0.021917731684604376, 0.1460001759908416, -0...              1  "
      ]
     },
     "execution_count": 12,
     "metadata": {},
     "output_type": "execute_result"
    }
   ],
   "source": [
    "sent_df['cluster_index'] = labels\n",
    "sent_df.head()"
   ]
  },
  {
   "cell_type": "code",
   "execution_count": 13,
   "id": "ade0b03b",
   "metadata": {},
   "outputs": [
    {
     "data": {
      "text/html": [
       "<div>\n",
       "<style scoped>\n",
       "    .dataframe tbody tr th:only-of-type {\n",
       "        vertical-align: middle;\n",
       "    }\n",
       "\n",
       "    .dataframe tbody tr th {\n",
       "        vertical-align: top;\n",
       "    }\n",
       "\n",
       "    .dataframe thead th {\n",
       "        text-align: right;\n",
       "    }\n",
       "</style>\n",
       "<table border=\"1\" class=\"dataframe\">\n",
       "  <thead>\n",
       "    <tr style=\"text-align: right;\">\n",
       "      <th></th>\n",
       "      <th>date</th>\n",
       "      <th>sentence</th>\n",
       "      <th>feature</th>\n",
       "      <th>cluster_index</th>\n",
       "    </tr>\n",
       "  </thead>\n",
       "  <tbody>\n",
       "    <tr>\n",
       "      <th>19</th>\n",
       "      <td>2021-12-15</td>\n",
       "      <td>Voting for the monetary policy action were Jer...</td>\n",
       "      <td>[-0.04786277685721134, -0.16435505856488702, 0...</td>\n",
       "      <td>6</td>\n",
       "    </tr>\n",
       "    <tr>\n",
       "      <th>42</th>\n",
       "      <td>2021-11-03</td>\n",
       "      <td>Voting for the monetary policy action were Jer...</td>\n",
       "      <td>[-0.04786277685721134, -0.16435505856488702, 0...</td>\n",
       "      <td>6</td>\n",
       "    </tr>\n",
       "    <tr>\n",
       "      <th>62</th>\n",
       "      <td>2021-09-22</td>\n",
       "      <td>Voting for the monetary policy action were Jer...</td>\n",
       "      <td>[-0.04786277685721134, -0.16435505856488702, 0...</td>\n",
       "      <td>6</td>\n",
       "    </tr>\n",
       "    <tr>\n",
       "      <th>81</th>\n",
       "      <td>2021-07-28</td>\n",
       "      <td>Voting for the monetary policy action were Jer...</td>\n",
       "      <td>[-0.04786277685721134, -0.16435505856488702, 0...</td>\n",
       "      <td>6</td>\n",
       "    </tr>\n",
       "    <tr>\n",
       "      <th>100</th>\n",
       "      <td>2021-06-16</td>\n",
       "      <td>Voting for the monetary policy action were Jer...</td>\n",
       "      <td>[-0.04786277685721134, -0.16435505856488702, 0...</td>\n",
       "      <td>6</td>\n",
       "    </tr>\n",
       "  </tbody>\n",
       "</table>\n",
       "</div>"
      ],
      "text/plain": [
       "           date                                           sentence  \\\n",
       "19   2021-12-15  Voting for the monetary policy action were Jer...   \n",
       "42   2021-11-03  Voting for the monetary policy action were Jer...   \n",
       "62   2021-09-22  Voting for the monetary policy action were Jer...   \n",
       "81   2021-07-28  Voting for the monetary policy action were Jer...   \n",
       "100  2021-06-16  Voting for the monetary policy action were Jer...   \n",
       "\n",
       "                                               feature  cluster_index  \n",
       "19   [-0.04786277685721134, -0.16435505856488702, 0...              6  \n",
       "42   [-0.04786277685721134, -0.16435505856488702, 0...              6  \n",
       "62   [-0.04786277685721134, -0.16435505856488702, 0...              6  \n",
       "81   [-0.04786277685721134, -0.16435505856488702, 0...              6  \n",
       "100  [-0.04786277685721134, -0.16435505856488702, 0...              6  "
      ]
     },
     "execution_count": 13,
     "metadata": {},
     "output_type": "execute_result"
    }
   ],
   "source": [
    "sent_df[(sent_df['sentence'].apply(lambda x: 'Powell' in x))].head()"
   ]
  },
  {
   "cell_type": "markdown",
   "id": "9624bfc8",
   "metadata": {},
   "source": [
    "5번 클러스터: 참석자 명단이 나열된 문장들"
   ]
  },
  {
   "cell_type": "code",
   "execution_count": 16,
   "id": "7e3cdcbe",
   "metadata": {},
   "outputs": [
    {
     "name": "stdout",
     "output_type": "stream",
     "text": [
      "42\n"
     ]
    },
    {
     "data": {
      "text/html": [
       "<div>\n",
       "<style scoped>\n",
       "    .dataframe tbody tr th:only-of-type {\n",
       "        vertical-align: middle;\n",
       "    }\n",
       "\n",
       "    .dataframe tbody tr th {\n",
       "        vertical-align: top;\n",
       "    }\n",
       "\n",
       "    .dataframe thead th {\n",
       "        text-align: right;\n",
       "    }\n",
       "</style>\n",
       "<table border=\"1\" class=\"dataframe\">\n",
       "  <thead>\n",
       "    <tr style=\"text-align: right;\">\n",
       "      <th></th>\n",
       "      <th>date</th>\n",
       "      <th>sentence</th>\n",
       "      <th>feature</th>\n",
       "      <th>cluster_index</th>\n",
       "    </tr>\n",
       "  </thead>\n",
       "  <tbody>\n",
       "    <tr>\n",
       "      <th>19</th>\n",
       "      <td>2021-12-15</td>\n",
       "      <td>Voting for the monetary policy action were Jer...</td>\n",
       "      <td>[-0.04786277685721134, -0.16435505856488702, 0...</td>\n",
       "      <td>6</td>\n",
       "    </tr>\n",
       "    <tr>\n",
       "      <th>42</th>\n",
       "      <td>2021-11-03</td>\n",
       "      <td>Voting for the monetary policy action were Jer...</td>\n",
       "      <td>[-0.04786277685721134, -0.16435505856488702, 0...</td>\n",
       "      <td>6</td>\n",
       "    </tr>\n",
       "    <tr>\n",
       "      <th>62</th>\n",
       "      <td>2021-09-22</td>\n",
       "      <td>Voting for the monetary policy action were Jer...</td>\n",
       "      <td>[-0.04786277685721134, -0.16435505856488702, 0...</td>\n",
       "      <td>6</td>\n",
       "    </tr>\n",
       "    <tr>\n",
       "      <th>81</th>\n",
       "      <td>2021-07-28</td>\n",
       "      <td>Voting for the monetary policy action were Jer...</td>\n",
       "      <td>[-0.04786277685721134, -0.16435505856488702, 0...</td>\n",
       "      <td>6</td>\n",
       "    </tr>\n",
       "    <tr>\n",
       "      <th>100</th>\n",
       "      <td>2021-06-16</td>\n",
       "      <td>Voting for the monetary policy action were Jer...</td>\n",
       "      <td>[-0.04786277685721134, -0.16435505856488702, 0...</td>\n",
       "      <td>6</td>\n",
       "    </tr>\n",
       "  </tbody>\n",
       "</table>\n",
       "</div>"
      ],
      "text/plain": [
       "           date                                           sentence  \\\n",
       "19   2021-12-15  Voting for the monetary policy action were Jer...   \n",
       "42   2021-11-03  Voting for the monetary policy action were Jer...   \n",
       "62   2021-09-22  Voting for the monetary policy action were Jer...   \n",
       "81   2021-07-28  Voting for the monetary policy action were Jer...   \n",
       "100  2021-06-16  Voting for the monetary policy action were Jer...   \n",
       "\n",
       "                                               feature  cluster_index  \n",
       "19   [-0.04786277685721134, -0.16435505856488702, 0...              6  \n",
       "42   [-0.04786277685721134, -0.16435505856488702, 0...              6  \n",
       "62   [-0.04786277685721134, -0.16435505856488702, 0...              6  \n",
       "81   [-0.04786277685721134, -0.16435505856488702, 0...              6  \n",
       "100  [-0.04786277685721134, -0.16435505856488702, 0...              6  "
      ]
     },
     "execution_count": 16,
     "metadata": {},
     "output_type": "execute_result"
    }
   ],
   "source": [
    "temp = sent_df[(sent_df['cluster_index']==6)]\n",
    "print(len(temp))\n",
    "temp.head()"
   ]
  },
  {
   "cell_type": "code",
   "execution_count": 14,
   "id": "fde1c225",
   "metadata": {},
   "outputs": [
    {
     "name": "stdout",
     "output_type": "stream",
     "text": [
      "43\n"
     ]
    },
    {
     "data": {
      "text/html": [
       "<div>\n",
       "<style scoped>\n",
       "    .dataframe tbody tr th:only-of-type {\n",
       "        vertical-align: middle;\n",
       "    }\n",
       "\n",
       "    .dataframe tbody tr th {\n",
       "        vertical-align: top;\n",
       "    }\n",
       "\n",
       "    .dataframe thead th {\n",
       "        text-align: right;\n",
       "    }\n",
       "</style>\n",
       "<table border=\"1\" class=\"dataframe\">\n",
       "  <thead>\n",
       "    <tr style=\"text-align: right;\">\n",
       "      <th></th>\n",
       "      <th>date</th>\n",
       "      <th>sentence</th>\n",
       "      <th>feature</th>\n",
       "      <th>cluster_index</th>\n",
       "    </tr>\n",
       "  </thead>\n",
       "  <tbody>\n",
       "    <tr>\n",
       "      <th>20</th>\n",
       "      <td>2021-12-15</td>\n",
       "      <td>Implementation Note issued December 15, 2021</td>\n",
       "      <td>[0.13970585819333792, -0.25936718968053657, 0....</td>\n",
       "      <td>5</td>\n",
       "    </tr>\n",
       "    <tr>\n",
       "      <th>43</th>\n",
       "      <td>2021-11-03</td>\n",
       "      <td>Implementation Note issued November 3, 2021</td>\n",
       "      <td>[0.20753679176171622, -0.20076826338966688, 0....</td>\n",
       "      <td>5</td>\n",
       "    </tr>\n",
       "    <tr>\n",
       "      <th>63</th>\n",
       "      <td>2021-09-22</td>\n",
       "      <td>Implementation Note issued September 22, 2021</td>\n",
       "      <td>[0.16760266851633787, -0.2528836727142334, 0.1...</td>\n",
       "      <td>5</td>\n",
       "    </tr>\n",
       "    <tr>\n",
       "      <th>82</th>\n",
       "      <td>2021-07-28</td>\n",
       "      <td>Implementation Note issued July 28, 2021</td>\n",
       "      <td>[0.15450554116008183, -0.25206173459688824, 0....</td>\n",
       "      <td>5</td>\n",
       "    </tr>\n",
       "    <tr>\n",
       "      <th>101</th>\n",
       "      <td>2021-06-16</td>\n",
       "      <td>Implementation Note issued June 16, 2021</td>\n",
       "      <td>[0.18765657775414488, -0.22532168868929148, 0....</td>\n",
       "      <td>5</td>\n",
       "    </tr>\n",
       "  </tbody>\n",
       "</table>\n",
       "</div>"
      ],
      "text/plain": [
       "           date                                       sentence  \\\n",
       "20   2021-12-15   Implementation Note issued December 15, 2021   \n",
       "43   2021-11-03    Implementation Note issued November 3, 2021   \n",
       "63   2021-09-22  Implementation Note issued September 22, 2021   \n",
       "82   2021-07-28       Implementation Note issued July 28, 2021   \n",
       "101  2021-06-16       Implementation Note issued June 16, 2021   \n",
       "\n",
       "                                               feature  cluster_index  \n",
       "20   [0.13970585819333792, -0.25936718968053657, 0....              5  \n",
       "43   [0.20753679176171622, -0.20076826338966688, 0....              5  \n",
       "63   [0.16760266851633787, -0.2528836727142334, 0.1...              5  \n",
       "82   [0.15450554116008183, -0.25206173459688824, 0....              5  \n",
       "101  [0.18765657775414488, -0.22532168868929148, 0....              5  "
      ]
     },
     "execution_count": 14,
     "metadata": {},
     "output_type": "execute_result"
    }
   ],
   "source": [
    "temp = sent_df[(sent_df['cluster_index']==5)]\n",
    "print(len(temp))\n",
    "temp.head()"
   ]
  }
 ],
 "metadata": {
  "kernelspec": {
   "display_name": "torchtext",
   "language": "python",
   "name": "torchtext"
  },
  "language_info": {
   "codemirror_mode": {
    "name": "ipython",
    "version": 3
   },
   "file_extension": ".py",
   "mimetype": "text/x-python",
   "name": "python",
   "nbconvert_exporter": "python",
   "pygments_lexer": "ipython3",
   "version": "3.6.5"
  }
 },
 "nbformat": 4,
 "nbformat_minor": 5
}
